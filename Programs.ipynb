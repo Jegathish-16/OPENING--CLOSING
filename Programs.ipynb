{
 "cells": [
  {
   "cell_type": "code",
   "execution_count": 1,
   "id": "6ba9b579",
   "metadata": {},
   "outputs": [],
   "source": [
    "import cv2\n",
    "import numpy as np"
   ]
  },
  {
   "cell_type": "code",
   "execution_count": 2,
   "id": "41313467",
   "metadata": {},
   "outputs": [],
   "source": [
    "img= np.zeros((350,1400),dtype ='uint8')\n",
    "font = cv2.FONT_HERSHEY_SIMPLEX\n",
    "cv2.putText(img,'JEGATHISH S',(15,200),font,5,(255),10,cv2.LINE_AA)\n",
    "cv2.imshow('created_text',img)\n",
    "cv2.waitKey(0)\n",
    "cv2.destroyAllWindows()"
   ]
  },
  {
   "cell_type": "code",
   "execution_count": 3,
   "id": "3ad3afce",
   "metadata": {},
   "outputs": [],
   "source": [
    "struct_ele= np.ones((9,9),np.uint8)\n",
    "opening = cv2.morphologyEx(img,cv2.MORPH_OPEN,struct_ele)\n",
    "cv2.imshow('Opening',opening)\n",
    "cv2.waitKey(0)\n",
    "cv2.destroyAllWindows()"
   ]
  },
  {
   "cell_type": "code",
   "execution_count": 5,
   "id": "4af1d8c2",
   "metadata": {},
   "outputs": [],
   "source": [
    "closing = cv2.morphologyEx(img,cv2.MORPH_CLOSE,struct_ele)\n",
    "cv2.imshow('Closing',closing)\n",
    "cv2.waitKey(0)\n",
    "cv2.destroyAllWindows()"
   ]
  },
  {
   "cell_type": "code",
   "execution_count": null,
   "id": "b7e524af",
   "metadata": {},
   "outputs": [],
   "source": []
  }
 ],
 "metadata": {
  "kernelspec": {
   "display_name": "Python 3",
   "language": "python",
   "name": "python3"
  },
  "language_info": {
   "codemirror_mode": {
    "name": "ipython",
    "version": 3
   },
   "file_extension": ".py",
   "mimetype": "text/x-python",
   "name": "python",
   "nbconvert_exporter": "python",
   "pygments_lexer": "ipython3",
   "version": "3.8.8"
  }
 },
 "nbformat": 4,
 "nbformat_minor": 5
}
